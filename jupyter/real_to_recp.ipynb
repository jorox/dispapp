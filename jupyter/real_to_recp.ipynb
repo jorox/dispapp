{
 "cells": [
  {
   "cell_type": "markdown",
   "id": "c5ddf14f",
   "metadata": {},
   "source": [
    "# Objective\n",
    "\n",
    "To transform atom coordinates from the real to reciprocal space\n",
    "\n",
    "## Input\n",
    "An MD atom output data file \"data.atom\" of format\n",
    "ID type q x y z\n",
    "\n",
    "## Output\n",
    "An output map file where each atom has coordinates\n",
    "l1 l2 l3 k ID type"
   ]
  },
  {
   "cell_type": "code",
   "execution_count": null,
   "id": "7be97c12",
   "metadata": {},
   "outputs": [],
   "source": [
    "import numpy as np\n",
    "a = 5.1\n",
    "A = a*np.array([[0.5, 0, 0.5],[0.5, 0.5, 0],[0, 0.5, 0.5]]) #unit lattice vectors\n",
    "B = 2*np.pi*np.linalg.transpose(np.linalg.inv(A))"
   ]
  }
 ],
 "metadata": {
  "kernelspec": {
   "display_name": "Python 3",
   "language": "python",
   "name": "python3"
  },
  "language_info": {
   "codemirror_mode": {
    "name": "ipython",
    "version": 3
   },
   "file_extension": ".py",
   "mimetype": "text/x-python",
   "name": "python",
   "nbconvert_exporter": "python",
   "pygments_lexer": "ipython3",
   "version": "3.9.1"
  }
 },
 "nbformat": 4,
 "nbformat_minor": 5
}
